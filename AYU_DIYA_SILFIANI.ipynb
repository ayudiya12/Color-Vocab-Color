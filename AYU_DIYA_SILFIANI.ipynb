{
  "cells": [
    {
      "cell_type": "markdown",
      "metadata": {
        "id": "view-in-github",
        "colab_type": "text"
      },
      "source": [
        "<a href=\"https://colab.research.google.com/github/ayudiya12/Color-Vocab-Color/blob/main/AYU_DIYA_SILFIANI.ipynb\" target=\"_parent\"><img src=\"https://colab.research.google.com/assets/colab-badge.svg\" alt=\"Open In Colab\"/></a>"
      ]
    },
    {
      "cell_type": "code",
      "source": [
        "def nama_fungsi():\n",
        "        print (\"Hello ini Fungsi\")"
      ],
      "metadata": {
        "id": "-Ch_w9jDTL2i"
      },
      "execution_count": 3,
      "outputs": []
    },
    {
      "cell_type": "code",
      "source": [
        "# Membuat Fungsi\n",
        "def salam():\n",
        "    print (\"Hello, Selamat Pagi\")\n",
        "\n",
        "## Pemanggilan Fungsi\n",
        "salam()"
      ],
      "metadata": {
        "colab": {
          "base_uri": "https://localhost:8080/"
        },
        "id": "_7wjVCItTWgi",
        "outputId": "d53bd055-b875-40a4-a802-f251365010ab"
      },
      "execution_count": 7,
      "outputs": [
        {
          "output_type": "stream",
          "name": "stdout",
          "text": [
            "Hello, Selamat Pagi\n"
          ]
        }
      ]
    },
    {
      "cell_type": "code",
      "source": [
        "# Membuat Fungsi\n",
        "def salam():\n",
        "    print (\"Hello, Selamat Pagi\")\n",
        "\n",
        "## Pemanggilan Fungsi\\n\",\n",
        "salam()\n",
        "salam()\n",
        "salam()"
      ],
      "metadata": {
        "colab": {
          "base_uri": "https://localhost:8080/"
        },
        "id": "ccYMOngITd5t",
        "outputId": "d94dc594-f798-4436-acca-c1acb9723ea1"
      },
      "execution_count": 10,
      "outputs": [
        {
          "output_type": "stream",
          "name": "stdout",
          "text": [
            "Hello, Selamat Pagi\n",
            "Hello, Selamat Pagi\n",
            "Hello, Selamat Pagi\n"
          ]
        }
      ]
    },
    {
      "cell_type": "code",
      "source": [
        "def salam(ucapan):\n",
        "       print(ucapan)"
      ],
      "metadata": {
        "id": "hpzVoZCvTtjP"
      },
      "execution_count": 11,
      "outputs": []
    },
    {
      "cell_type": "code",
      "source": [
        "# Membuat fungsi dengan parameter\n",
        "def luas_segitiga(alas, tinggi):\n",
        "    luas = (alas * tinggi) / 2\n",
        "    print(\"Luas segitiga: %f\" % luas)\n",
        "\n",
        "# Pemanggilan fungsi\n",
        "luas_segitiga(4, 6)"
      ],
      "metadata": {
        "colab": {
          "base_uri": "https://localhost:8080/"
        },
        "id": "yjYJ6Vn3T1C6",
        "outputId": "4fc37abe-0c76-409d-f548-74e8392c2e0e"
      },
      "execution_count": 15,
      "outputs": [
        {
          "output_type": "stream",
          "name": "stdout",
          "text": [
            "Luas segitiga: 12.000000\n"
          ]
        }
      ]
    },
    {
      "cell_type": "code",
      "source": [
        "def luas_persegi(sisi):\n",
        "    luas = sisi * sisi\n",
        "    return luas\n",
        "\n",
        "# pemanggilan fungsi\n",
        "print (\"Luas persegi: %d\" % luas_persegi(6))"
      ],
      "metadata": {
        "colab": {
          "base_uri": "https://localhost:8080/"
        },
        "id": "4ACE60m8UB9S",
        "outputId": "28b82c5a-2ade-4123-ec69-eedc542032e1"
      },
      "execution_count": 16,
      "outputs": [
        {
          "output_type": "stream",
          "name": "stdout",
          "text": [
            "Luas persegi: 36\n"
          ]
        }
      ]
    },
    {
      "cell_type": "code",
      "source": [
        "# rumus: sisi x sisi\n",
        "def luas_persegi(sisi):\n",
        "    luas = sisi * sisi\n",
        "    return luas\n",
        "# rumus: sisi x sisi x sisi\n",
        "def volume_persegi(sisi):\n",
        "    volume = luas_persegi(sisi) * sisi"
      ],
      "metadata": {
        "id": "vKh-XrZsUQpE"
      },
      "execution_count": 17,
      "outputs": []
    },
    {
      "cell_type": "code",
      "source": [
        "# membuat variabel global\n",
        "nama = \"AYU DIYA SILFIANI\"\n",
        "versi = \"1.0.0\"\n",
        "\n",
        "def help():\n",
        "# ini variabel lokal\n",
        "    nama = \"Programku\"\n",
        "    versi = \"1.0.2\"\n",
        "# mengakses variabel lokal\n",
        "    print(\"Nama: %s\" % nama)\n",
        "    print(\"Versi: %s\" % versi)\n",
        "\n",
        "# mengakses variabel global\n",
        "    print(\"Nama: %s\" % nama)\n",
        "    print(\"Versi: %s\" % versi)\n",
        "\n",
        "# memanggil fungsi help()\n",
        "    help()"
      ],
      "metadata": {
        "id": "Iv5QIVYSUZyo"
      },
      "execution_count": 19,
      "outputs": []
    },
    {
      "cell_type": "code",
      "source": [
        "# Variabel global untuk menyimpan data Buku\n",
        "buku = []"
      ],
      "metadata": {
        "id": "PbzBUS5xUpvZ"
      },
      "execution_count": 21,
      "outputs": []
    },
    {
      "cell_type": "code",
      "source": [
        "# fungsi untuk menampilkan semua data\n",
        "def show_data():\n",
        "    if len(buku) <= 0:\n",
        "       print(\"BELUM ADA DATA\")\n",
        "    else:\n",
        "        for indeks in range(len(buku)):\n",
        "            print(\"[%d] %s\" % (indeks, buku[indeks]))"
      ],
      "metadata": {
        "id": "zQJNrWGrUurM"
      },
      "execution_count": 22,
      "outputs": []
    },
    {
      "cell_type": "code",
      "source": [
        "# fungsi untuk menambah data]\n",
        "def insert_data():\n",
        "    buku_baru = raw_input(\"Judul Buku: \")\n",
        "    buku.append(buku_baru)"
      ],
      "metadata": {
        "id": "q9kbNqxYU2yp"
      },
      "execution_count": 23,
      "outputs": []
    },
    {
      "cell_type": "code",
      "source": [
        "# fungsi untuk menghapus data\n",
        "def delete_data():\n",
        "    show_data()\n",
        "      try:\n",
        "         indeks = int(input(\"Inputkan ID buku: \"))  # konversi ke integer\n",
        "        if indeks >= len(buku)\n",
        "                print(\"ID salah\")\n",
        "        else:\n",
        "                buku.remove(buku[indeks])\n",
        "        except ValueError:\n",
        "            print(\"Input harus berupa angka\")"
      ],
      "metadata": {
        "id": "KcrSscbQVHze"
      },
      "execution_count": null,
      "outputs": []
    },
    {
      "cell_type": "code",
      "source": [
        "# Variabel global untuk menyimpan data Buku\n",
        "buku = []\n",
        "\n",
        "# fungsi untuk menampilkan semua data\n",
        "def show_data():\n",
        "    if len(buku) <= 0:\n",
        "            print(\"BELUM ADA DATA\")\n",
        "    else:\n",
        "            for indeks in range(len(buku)):\n",
        "                print(\"[%d] %s\" % (indeks, buku[indeks]))\n",
        "\n",
        "# fungsi untuk menambah data\n",
        "def insert_data():\n",
        "    buku_baru = input(\"Judul Buku: \")  # ganti raw_input() dengan input()\n",
        "    buku.append(buku_baru)\n",
        "\n",
        "# fungsi untuk edit data\n",
        "def edit_data():\n",
        "    show_data()\n",
        "    try:\n",
        "        indeks = int(input(\"Inputkan ID buku: \"))  # konversi ke integer\n",
        "    if indeks >= len(buku):\n",
        "                print(\"ID salah\")\n",
        "    else:\n",
        "                judul_baru = input(\"Judul baru: \")  # ganti raw_input() dengan input()\n",
        "                buku[indeks] = judul_baru\n",
        "    except ValueError:\n",
        "            print(\"Input harus berupa angka!\")\n",
        "\n",
        "# fungsi untuk menghapus data\n",
        "def delete_data():\n",
        "        show_data()\n",
        "    try:\n",
        "        indeks = int(input(\"Inputkan ID buku: \"))  # konversi ke integer\n",
        "    if indeks >= len(buku):\n",
        "        print(\"ID salah\")\n",
        "    else:\n",
        "        buku.remove(buku[indeks])\n",
        "    except ValueError:\n",
        "        print(\"Input harus berupa angka!\")\n",
        "\n",
        "# fungsi untuk menampilkan menu\n",
        "def show_menu():\n",
        "        print(\"\\n\\\")\n",
        "        print(\"----------- MENU ----------\")\n",
        "        print(\"[1] Show Data\")\n",
        "        print(\"[2] Insert Data\")\n",
        "        print(\"[3] Edit Data\")\n",
        "        print(\"[4] Delete Data\")\n",
        "        print\"[5] Exit\")\n",
        "\n",
        "    try:\n",
        "        menu = int(input(\"PILIH MENU> \"))  # konversi ke integer\n",
        "          print(\"\\n\\\")\n",
        "\n",
        "        if menu == 1:\n",
        "              show_data()\n",
        "        elif menu == 2:\n",
        "              insert_data()\n",
        "        elif menu == 3:\n",
        "              edit_data()\n",
        "        elif menu == 4:\n",
        "              delete_data()\n",
        "        elif menu == 5:\n",
        "              exit()\n",
        "        else:\n",
        "              print(\"Salah pilih!\")\n",
        "        except ValueError:\\n\",\n",
        "            print(\"Input harus berupa angka!\")\n",
        "\n",
        "if __name__ == \"__main__\\\":\n",
        "        while(True):\n",
        "            show_menu()"
      ],
      "metadata": {
        "colab": {
          "base_uri": "https://localhost:8080/",
          "height": 106
        },
        "id": "gTEAJ5s5VRJZ",
        "outputId": "4cdad21f-9981-42a6-a550-c77341f3b913"
      },
      "execution_count": 33,
      "outputs": [
        {
          "output_type": "error",
          "ename": "IndentationError",
          "evalue": "unindent does not match any outer indentation level (<tokenize>, line 33)",
          "traceback": [
            "\u001b[0;36m  File \u001b[0;32m\"<tokenize>\"\u001b[0;36m, line \u001b[0;32m33\u001b[0m\n\u001b[0;31m    try:\u001b[0m\n\u001b[0m    ^\u001b[0m\n\u001b[0;31mIndentationError\u001b[0m\u001b[0;31m:\u001b[0m unindent does not match any outer indentation level\n"
          ]
        }
      ]
    }
  ],
  "metadata": {
    "colab": {
      "provenance": [],
      "include_colab_link": true
    },
    "kernelspec": {
      "display_name": "Python 3",
      "name": "python3"
    }
  },
  "nbformat": 4,
  "nbformat_minor": 0
}